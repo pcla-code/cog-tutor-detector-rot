{
 "cells": [
  {
   "cell_type": "code",
   "execution_count": 1,
   "id": "2d874f01",
   "metadata": {},
   "outputs": [],
   "source": [
    "import xgboost as xgb\n",
    "import pandas as pd\n",
    "import sklearn as sk\n",
    "import numpy as np\n",
    "import matplotlib.pyplot as plt\n",
    "from sklearn.model_selection import train_test_split\n",
    "from sklearn.neural_network import MLPClassifier\n",
    "from sklearn.neighbors import KNeighborsClassifier\n",
    "from sklearn.svm import SVC\n",
    "from sklearn.gaussian_process import GaussianProcessClassifier\n",
    "from sklearn.gaussian_process.kernels import RBF\n",
    "from sklearn.tree import DecisionTreeClassifier\n",
    "from sklearn.ensemble import RandomForestClassifier, AdaBoostClassifier\n",
    "from sklearn.naive_bayes import GaussianNB\n",
    "from sklearn.metrics import accuracy_score\n",
    "from sklearn.metrics import ConfusionMatrixDisplay\n",
    "from sklearn.model_selection import LeavePGroupsOut, cross_val_score, GroupShuffleSplit\n",
    "from sklearn.metrics import roc_auc_score\n",
    "from sklearn.model_selection import GroupKFold\n",
    "from sklearn.linear_model import LogisticRegression\n",
    "from sklearn.base import clone\n",
    "from statistics import mean\n",
    "import scipy\n",
    "\n",
    "from sklearn.dummy import DummyClassifier\n",
    "from imblearn.over_sampling import SMOTE\n",
    "from sklearn import metrics\n",
    "from math import sqrt\n",
    "\n",
    "import warnings\n",
    "warnings.simplefilter(action='ignore', category=FutureWarning)"
   ]
  },
  {
   "cell_type": "code",
   "execution_count": 2,
   "id": "6312b1c1",
   "metadata": {},
   "outputs": [],
   "source": [
    "df = pd.read_csv(\"training_data.csv\")\n",
    "df =df.fillna(df.median())\n",
    "df2 = pd.read_csv(\"old_training_data.txt\")\n",
    "df2 =df2.fillna(df.median())\n",
    "\n",
    "common_cols = [col for col in set(df.columns).intersection(df2.columns)] #just in case remove any features not shared by the two data sets\n",
    "df = df[common_cols]\n",
    "df2 = df2[common_cols]"
   ]
  },
  {
   "cell_type": "code",
   "execution_count": 3,
   "id": "0fffcecb",
   "metadata": {},
   "outputs": [],
   "source": [
    "y = df[\"Target\"]\n",
    "X = df.drop([\"Target\"], axis=1) \n",
    "\n",
    "y_old = df2[\"Target\"]\n",
    "X_old = df2.drop([\"Target\"], axis=1)\n",
    "\n",
    "X_train = X.drop([\"StudentID\"], axis=1)\n",
    "X_old_train=X_old.drop([\"StudentID\"], axis=1) \n",
    "\n",
    "\n",
    "\n",
    "features = list(df.columns)\n",
    "features.remove(\"Target\")\n",
    "features.remove(\"StudentID\")\n",
    "train_label = \"Target\""
   ]
  },
  {
   "cell_type": "code",
   "execution_count": 4,
   "id": "89c26700-6d87-4209-8aa0-736fe81c6e61",
   "metadata": {},
   "outputs": [],
   "source": [
    "def standard_error(roc_auc, num_pos, num_neg):\n",
    "    roc_auc_squared = roc_auc**2\n",
    "    d_pos = (num_pos-1)*(roc_auc/(2-roc_auc)-roc_auc_squared)\n",
    "    d_neg = (num_neg-1)*((2*roc_auc_squared)/(1+roc_auc)-roc_auc_squared)\n",
    "    return sqrt((roc_auc*(1-roc_auc) + d_pos + d_neg)/(num_pos*num_neg)) \n",
    "\n",
    "def z_score(roc_auc1, roc_auc2, se1, se2):\n",
    "    return((roc_auc1 - roc_auc2)/(sqrt(se1**2 + se2**2)))\n",
    "\n",
    "def TrainModels(df, groupID, nSplits, text, clf, name, sm=True):\n",
    "            toRet = {}\n",
    "            models = []\n",
    "            groups = df[groupID]\n",
    "            finalPreds = pd.DataFrame(index=df.index, columns=['probability_predict', 'label_predict','label'], dtype=float)\n",
    "            for iter_num, fold_indices in enumerate(GroupKFold(n_splits=4).split(X=df, groups=groups)):\n",
    "                train_indices = fold_indices[0]\n",
    "                test_indices = fold_indices[1]\n",
    "\n",
    "                train_inst = df.iloc[train_indices].copy()\n",
    "                test_inst = df.iloc[test_indices].copy()\n",
    "\n",
    "                train_X = train_inst[features].copy()\n",
    "                train_y = train_inst[train_label].copy()\n",
    "\n",
    "                test_x = test_inst[features].copy()\n",
    "                test_y = test_inst[train_label].copy()\n",
    "                \n",
    "                if(sm):\n",
    "                    sm = SMOTE(random_state=42)\n",
    "                    train_X, train_y = sm.fit_resample(train_X,train_y)\n",
    "\n",
    "                clf.fit(train_X, train_y)\n",
    "                models.append(clone(clf))\n",
    "                probs = clf.predict_proba(test_x)\n",
    "                label_predict = clf.predict(test_x)\n",
    "                df_prob = pd.DataFrame(probs, columns=[\"P0\", \"P1\"], index=test_y.index)\n",
    "    #             print(probs)\n",
    "    #             print(df_prob)\n",
    "#                 test_y = test_y.to_frame()\n",
    "#                 test_y[\"Prob\"] = df_prob[\"P1\"].copy()\n",
    "    #             print(test_y)\n",
    "                finalPreds['probability_predict'].iloc[test_indices] = probs[:,1] \n",
    "                finalPreds['label_predict'].iloc[test_indices] = label_predict\n",
    "                finalPreds['label'].iloc[test_indices] = test_y\n",
    "#                 print(finalPreds)\n",
    "            csv_name = str(name) + \"_finalPredictions_with_proba.csv\"\n",
    "            finalPreds.to_csv(csv_name)\n",
    "            print\n",
    "\n",
    "            roc = roc_auc_score(finalPreds['label'], finalPreds[\"probability_predict\"])\n",
    "\n",
    "            new_se = standard_error(roc, df[train_label].value_counts()[1],df[train_label].value_counts()[0])\n",
    "            #print(\"{0}: {1} roc_auc: {2}\".format(text,name,roc))\n",
    "            #print (\"StandardError = {0}\".format(new_se))\n",
    "            return [roc, new_se, models]\n",
    "            return \n",
    "def remove_outliers(df, id_column):\n",
    "    for col in df.columns:\n",
    "        if(col!=id_column and col!='Target'):\n",
    "            y = df[col]\n",
    "            outliers = y.between(y.quantile(0.01), y.quantile(0.99))\n",
    "            index_to_remove = df[~outliers].index\n",
    "            df.drop(index_to_remove, inplace=True)\n",
    "    return df"
   ]
  },
  {
   "cell_type": "code",
   "execution_count": 217,
   "id": "1bbd2937-38a3-4a71-8aed-9e7e94228f20",
   "metadata": {},
   "outputs": [],
   "source": [
    "#df = remove_outliers(df, 'StudentID')\n",
    "#df2 = remove_outliers(df2, 'StudentID')"
   ]
  },
  {
   "cell_type": "code",
   "execution_count": 218,
   "id": "ef697995-4196-4029-9769-39f617a6e565",
   "metadata": {},
   "outputs": [],
   "source": [
    "#Spot Check Means\n",
    "#df.describe()\n",
    "#df2.describe()\n",
    "#for c in df.columns.to_list():\n",
    "   # if(c != 'StudentID'): print(\"{2} -- MeanNEW: {0} , MeanOLD {1}\".format(df[c].mean(), df2[c].mean(), c))"
   ]
  },
  {
   "cell_type": "code",
   "execution_count": 6,
   "id": "d528746b",
   "metadata": {},
   "outputs": [
    {
     "name": "stdout",
     "output_type": "stream",
     "text": [
      "0\n",
      "10\n"
     ]
    },
    {
     "name": "stderr",
     "output_type": "stream",
     "text": [
      "/Users/clarabelitz/.pyenv/versions/3.6.8/envs/detector_rot/lib/python3.6/site-packages/sklearn/neural_network/_multilayer_perceptron.py:617: ConvergenceWarning: Stochastic Optimizer: Maximum iterations (200) reached and the optimization hasn't converged yet.\n",
      "  % self.max_iter, ConvergenceWarning)\n"
     ]
    },
    {
     "name": "stdout",
     "output_type": "stream",
     "text": [
      "20\n"
     ]
    },
    {
     "name": "stderr",
     "output_type": "stream",
     "text": [
      "/Users/clarabelitz/.pyenv/versions/3.6.8/envs/detector_rot/lib/python3.6/site-packages/sklearn/neural_network/_multilayer_perceptron.py:617: ConvergenceWarning: Stochastic Optimizer: Maximum iterations (200) reached and the optimization hasn't converged yet.\n",
      "  % self.max_iter, ConvergenceWarning)\n",
      "/Users/clarabelitz/.pyenv/versions/3.6.8/envs/detector_rot/lib/python3.6/site-packages/sklearn/neural_network/_multilayer_perceptron.py:617: ConvergenceWarning: Stochastic Optimizer: Maximum iterations (200) reached and the optimization hasn't converged yet.\n",
      "  % self.max_iter, ConvergenceWarning)\n"
     ]
    },
    {
     "name": "stdout",
     "output_type": "stream",
     "text": [
      "30\n",
      "40\n"
     ]
    },
    {
     "name": "stderr",
     "output_type": "stream",
     "text": [
      "/Users/clarabelitz/.pyenv/versions/3.6.8/envs/detector_rot/lib/python3.6/site-packages/sklearn/neural_network/_multilayer_perceptron.py:617: ConvergenceWarning: Stochastic Optimizer: Maximum iterations (200) reached and the optimization hasn't converged yet.\n",
      "  % self.max_iter, ConvergenceWarning)\n"
     ]
    },
    {
     "name": "stdout",
     "output_type": "stream",
     "text": [
      "50\n"
     ]
    },
    {
     "name": "stderr",
     "output_type": "stream",
     "text": [
      "/Users/clarabelitz/.pyenv/versions/3.6.8/envs/detector_rot/lib/python3.6/site-packages/sklearn/neural_network/_multilayer_perceptron.py:617: ConvergenceWarning: Stochastic Optimizer: Maximum iterations (200) reached and the optimization hasn't converged yet.\n",
      "  % self.max_iter, ConvergenceWarning)\n"
     ]
    },
    {
     "name": "stdout",
     "output_type": "stream",
     "text": [
      "60\n"
     ]
    },
    {
     "name": "stderr",
     "output_type": "stream",
     "text": [
      "/Users/clarabelitz/.pyenv/versions/3.6.8/envs/detector_rot/lib/python3.6/site-packages/sklearn/neural_network/_multilayer_perceptron.py:617: ConvergenceWarning: Stochastic Optimizer: Maximum iterations (200) reached and the optimization hasn't converged yet.\n",
      "  % self.max_iter, ConvergenceWarning)\n"
     ]
    },
    {
     "name": "stdout",
     "output_type": "stream",
     "text": [
      "70\n"
     ]
    },
    {
     "name": "stderr",
     "output_type": "stream",
     "text": [
      "/Users/clarabelitz/.pyenv/versions/3.6.8/envs/detector_rot/lib/python3.6/site-packages/sklearn/neural_network/_multilayer_perceptron.py:617: ConvergenceWarning: Stochastic Optimizer: Maximum iterations (200) reached and the optimization hasn't converged yet.\n",
      "  % self.max_iter, ConvergenceWarning)\n",
      "/Users/clarabelitz/.pyenv/versions/3.6.8/envs/detector_rot/lib/python3.6/site-packages/sklearn/neural_network/_multilayer_perceptron.py:617: ConvergenceWarning: Stochastic Optimizer: Maximum iterations (200) reached and the optimization hasn't converged yet.\n",
      "  % self.max_iter, ConvergenceWarning)\n"
     ]
    },
    {
     "name": "stdout",
     "output_type": "stream",
     "text": [
      "80\n"
     ]
    },
    {
     "name": "stderr",
     "output_type": "stream",
     "text": [
      "/Users/clarabelitz/.pyenv/versions/3.6.8/envs/detector_rot/lib/python3.6/site-packages/sklearn/neural_network/_multilayer_perceptron.py:617: ConvergenceWarning: Stochastic Optimizer: Maximum iterations (200) reached and the optimization hasn't converged yet.\n",
      "  % self.max_iter, ConvergenceWarning)\n"
     ]
    },
    {
     "name": "stdout",
     "output_type": "stream",
     "text": [
      "90\n",
      "100\n"
     ]
    },
    {
     "name": "stderr",
     "output_type": "stream",
     "text": [
      "/Users/clarabelitz/.pyenv/versions/3.6.8/envs/detector_rot/lib/python3.6/site-packages/sklearn/neural_network/_multilayer_perceptron.py:617: ConvergenceWarning: Stochastic Optimizer: Maximum iterations (200) reached and the optimization hasn't converged yet.\n",
      "  % self.max_iter, ConvergenceWarning)\n",
      "/Users/clarabelitz/.pyenv/versions/3.6.8/envs/detector_rot/lib/python3.6/site-packages/sklearn/neural_network/_multilayer_perceptron.py:617: ConvergenceWarning: Stochastic Optimizer: Maximum iterations (200) reached and the optimization hasn't converged yet.\n",
      "  % self.max_iter, ConvergenceWarning)\n"
     ]
    },
    {
     "name": "stdout",
     "output_type": "stream",
     "text": [
      "110\n",
      "120\n",
      "130\n",
      "140\n",
      "150\n",
      "160\n"
     ]
    },
    {
     "name": "stderr",
     "output_type": "stream",
     "text": [
      "/Users/clarabelitz/.pyenv/versions/3.6.8/envs/detector_rot/lib/python3.6/site-packages/sklearn/neural_network/_multilayer_perceptron.py:617: ConvergenceWarning: Stochastic Optimizer: Maximum iterations (200) reached and the optimization hasn't converged yet.\n",
      "  % self.max_iter, ConvergenceWarning)\n"
     ]
    },
    {
     "name": "stdout",
     "output_type": "stream",
     "text": [
      "170\n",
      "180\n"
     ]
    },
    {
     "name": "stderr",
     "output_type": "stream",
     "text": [
      "/Users/clarabelitz/.pyenv/versions/3.6.8/envs/detector_rot/lib/python3.6/site-packages/sklearn/neural_network/_multilayer_perceptron.py:617: ConvergenceWarning: Stochastic Optimizer: Maximum iterations (200) reached and the optimization hasn't converged yet.\n",
      "  % self.max_iter, ConvergenceWarning)\n",
      "/Users/clarabelitz/.pyenv/versions/3.6.8/envs/detector_rot/lib/python3.6/site-packages/sklearn/neural_network/_multilayer_perceptron.py:617: ConvergenceWarning: Stochastic Optimizer: Maximum iterations (200) reached and the optimization hasn't converged yet.\n",
      "  % self.max_iter, ConvergenceWarning)\n",
      "/Users/clarabelitz/.pyenv/versions/3.6.8/envs/detector_rot/lib/python3.6/site-packages/sklearn/neural_network/_multilayer_perceptron.py:617: ConvergenceWarning: Stochastic Optimizer: Maximum iterations (200) reached and the optimization hasn't converged yet.\n",
      "  % self.max_iter, ConvergenceWarning)\n"
     ]
    },
    {
     "name": "stdout",
     "output_type": "stream",
     "text": [
      "190\n",
      "200\n"
     ]
    },
    {
     "name": "stderr",
     "output_type": "stream",
     "text": [
      "/Users/clarabelitz/.pyenv/versions/3.6.8/envs/detector_rot/lib/python3.6/site-packages/sklearn/neural_network/_multilayer_perceptron.py:617: ConvergenceWarning: Stochastic Optimizer: Maximum iterations (200) reached and the optimization hasn't converged yet.\n",
      "  % self.max_iter, ConvergenceWarning)\n",
      "/Users/clarabelitz/.pyenv/versions/3.6.8/envs/detector_rot/lib/python3.6/site-packages/sklearn/neural_network/_multilayer_perceptron.py:617: ConvergenceWarning: Stochastic Optimizer: Maximum iterations (200) reached and the optimization hasn't converged yet.\n",
      "  % self.max_iter, ConvergenceWarning)\n",
      "/Users/clarabelitz/.pyenv/versions/3.6.8/envs/detector_rot/lib/python3.6/site-packages/sklearn/neural_network/_multilayer_perceptron.py:617: ConvergenceWarning: Stochastic Optimizer: Maximum iterations (200) reached and the optimization hasn't converged yet.\n",
      "  % self.max_iter, ConvergenceWarning)\n"
     ]
    },
    {
     "name": "stdout",
     "output_type": "stream",
     "text": [
      "210\n"
     ]
    },
    {
     "name": "stderr",
     "output_type": "stream",
     "text": [
      "/Users/clarabelitz/.pyenv/versions/3.6.8/envs/detector_rot/lib/python3.6/site-packages/sklearn/neural_network/_multilayer_perceptron.py:617: ConvergenceWarning: Stochastic Optimizer: Maximum iterations (200) reached and the optimization hasn't converged yet.\n",
      "  % self.max_iter, ConvergenceWarning)\n"
     ]
    },
    {
     "name": "stdout",
     "output_type": "stream",
     "text": [
      "220\n"
     ]
    },
    {
     "name": "stderr",
     "output_type": "stream",
     "text": [
      "/Users/clarabelitz/.pyenv/versions/3.6.8/envs/detector_rot/lib/python3.6/site-packages/sklearn/neural_network/_multilayer_perceptron.py:617: ConvergenceWarning: Stochastic Optimizer: Maximum iterations (200) reached and the optimization hasn't converged yet.\n",
      "  % self.max_iter, ConvergenceWarning)\n"
     ]
    },
    {
     "name": "stdout",
     "output_type": "stream",
     "text": [
      "230\n"
     ]
    },
    {
     "name": "stderr",
     "output_type": "stream",
     "text": [
      "/Users/clarabelitz/.pyenv/versions/3.6.8/envs/detector_rot/lib/python3.6/site-packages/sklearn/neural_network/_multilayer_perceptron.py:617: ConvergenceWarning: Stochastic Optimizer: Maximum iterations (200) reached and the optimization hasn't converged yet.\n",
      "  % self.max_iter, ConvergenceWarning)\n"
     ]
    },
    {
     "name": "stdout",
     "output_type": "stream",
     "text": [
      "240\n",
      "250\n"
     ]
    },
    {
     "name": "stderr",
     "output_type": "stream",
     "text": [
      "/Users/clarabelitz/.pyenv/versions/3.6.8/envs/detector_rot/lib/python3.6/site-packages/sklearn/neural_network/_multilayer_perceptron.py:617: ConvergenceWarning: Stochastic Optimizer: Maximum iterations (200) reached and the optimization hasn't converged yet.\n",
      "  % self.max_iter, ConvergenceWarning)\n",
      "/Users/clarabelitz/.pyenv/versions/3.6.8/envs/detector_rot/lib/python3.6/site-packages/sklearn/neural_network/_multilayer_perceptron.py:617: ConvergenceWarning: Stochastic Optimizer: Maximum iterations (200) reached and the optimization hasn't converged yet.\n",
      "  % self.max_iter, ConvergenceWarning)\n"
     ]
    },
    {
     "name": "stdout",
     "output_type": "stream",
     "text": [
      "260\n"
     ]
    },
    {
     "name": "stderr",
     "output_type": "stream",
     "text": [
      "/Users/clarabelitz/.pyenv/versions/3.6.8/envs/detector_rot/lib/python3.6/site-packages/sklearn/neural_network/_multilayer_perceptron.py:617: ConvergenceWarning: Stochastic Optimizer: Maximum iterations (200) reached and the optimization hasn't converged yet.\n",
      "  % self.max_iter, ConvergenceWarning)\n",
      "/Users/clarabelitz/.pyenv/versions/3.6.8/envs/detector_rot/lib/python3.6/site-packages/sklearn/neural_network/_multilayer_perceptron.py:617: ConvergenceWarning: Stochastic Optimizer: Maximum iterations (200) reached and the optimization hasn't converged yet.\n",
      "  % self.max_iter, ConvergenceWarning)\n"
     ]
    },
    {
     "name": "stdout",
     "output_type": "stream",
     "text": [
      "270\n"
     ]
    },
    {
     "name": "stderr",
     "output_type": "stream",
     "text": [
      "/Users/clarabelitz/.pyenv/versions/3.6.8/envs/detector_rot/lib/python3.6/site-packages/sklearn/neural_network/_multilayer_perceptron.py:617: ConvergenceWarning: Stochastic Optimizer: Maximum iterations (200) reached and the optimization hasn't converged yet.\n",
      "  % self.max_iter, ConvergenceWarning)\n"
     ]
    },
    {
     "name": "stdout",
     "output_type": "stream",
     "text": [
      "280\n",
      "290\n",
      "300\n",
      "310\n"
     ]
    },
    {
     "name": "stderr",
     "output_type": "stream",
     "text": [
      "/Users/clarabelitz/.pyenv/versions/3.6.8/envs/detector_rot/lib/python3.6/site-packages/sklearn/neural_network/_multilayer_perceptron.py:617: ConvergenceWarning: Stochastic Optimizer: Maximum iterations (200) reached and the optimization hasn't converged yet.\n",
      "  % self.max_iter, ConvergenceWarning)\n"
     ]
    },
    {
     "name": "stdout",
     "output_type": "stream",
     "text": [
      "320\n"
     ]
    },
    {
     "name": "stderr",
     "output_type": "stream",
     "text": [
      "/Users/clarabelitz/.pyenv/versions/3.6.8/envs/detector_rot/lib/python3.6/site-packages/sklearn/neural_network/_multilayer_perceptron.py:617: ConvergenceWarning: Stochastic Optimizer: Maximum iterations (200) reached and the optimization hasn't converged yet.\n",
      "  % self.max_iter, ConvergenceWarning)\n"
     ]
    },
    {
     "name": "stdout",
     "output_type": "stream",
     "text": [
      "330\n"
     ]
    },
    {
     "name": "stderr",
     "output_type": "stream",
     "text": [
      "/Users/clarabelitz/.pyenv/versions/3.6.8/envs/detector_rot/lib/python3.6/site-packages/sklearn/neural_network/_multilayer_perceptron.py:617: ConvergenceWarning: Stochastic Optimizer: Maximum iterations (200) reached and the optimization hasn't converged yet.\n",
      "  % self.max_iter, ConvergenceWarning)\n"
     ]
    },
    {
     "name": "stdout",
     "output_type": "stream",
     "text": [
      "340\n"
     ]
    },
    {
     "name": "stderr",
     "output_type": "stream",
     "text": [
      "/Users/clarabelitz/.pyenv/versions/3.6.8/envs/detector_rot/lib/python3.6/site-packages/sklearn/neural_network/_multilayer_perceptron.py:617: ConvergenceWarning: Stochastic Optimizer: Maximum iterations (200) reached and the optimization hasn't converged yet.\n",
      "  % self.max_iter, ConvergenceWarning)\n"
     ]
    },
    {
     "name": "stdout",
     "output_type": "stream",
     "text": [
      "350\n"
     ]
    },
    {
     "name": "stderr",
     "output_type": "stream",
     "text": [
      "/Users/clarabelitz/.pyenv/versions/3.6.8/envs/detector_rot/lib/python3.6/site-packages/sklearn/neural_network/_multilayer_perceptron.py:617: ConvergenceWarning: Stochastic Optimizer: Maximum iterations (200) reached and the optimization hasn't converged yet.\n",
      "  % self.max_iter, ConvergenceWarning)\n"
     ]
    },
    {
     "name": "stdout",
     "output_type": "stream",
     "text": [
      "360\n"
     ]
    },
    {
     "name": "stderr",
     "output_type": "stream",
     "text": [
      "/Users/clarabelitz/.pyenv/versions/3.6.8/envs/detector_rot/lib/python3.6/site-packages/sklearn/neural_network/_multilayer_perceptron.py:617: ConvergenceWarning: Stochastic Optimizer: Maximum iterations (200) reached and the optimization hasn't converged yet.\n",
      "  % self.max_iter, ConvergenceWarning)\n",
      "/Users/clarabelitz/.pyenv/versions/3.6.8/envs/detector_rot/lib/python3.6/site-packages/sklearn/neural_network/_multilayer_perceptron.py:617: ConvergenceWarning: Stochastic Optimizer: Maximum iterations (200) reached and the optimization hasn't converged yet.\n",
      "  % self.max_iter, ConvergenceWarning)\n"
     ]
    },
    {
     "name": "stdout",
     "output_type": "stream",
     "text": [
      "370\n",
      "380\n",
      "390\n"
     ]
    },
    {
     "name": "stderr",
     "output_type": "stream",
     "text": [
      "/Users/clarabelitz/.pyenv/versions/3.6.8/envs/detector_rot/lib/python3.6/site-packages/sklearn/neural_network/_multilayer_perceptron.py:617: ConvergenceWarning: Stochastic Optimizer: Maximum iterations (200) reached and the optimization hasn't converged yet.\n",
      "  % self.max_iter, ConvergenceWarning)\n",
      "/Users/clarabelitz/.pyenv/versions/3.6.8/envs/detector_rot/lib/python3.6/site-packages/sklearn/neural_network/_multilayer_perceptron.py:617: ConvergenceWarning: Stochastic Optimizer: Maximum iterations (200) reached and the optimization hasn't converged yet.\n",
      "  % self.max_iter, ConvergenceWarning)\n"
     ]
    },
    {
     "name": "stdout",
     "output_type": "stream",
     "text": [
      "400\n"
     ]
    },
    {
     "name": "stderr",
     "output_type": "stream",
     "text": [
      "/Users/clarabelitz/.pyenv/versions/3.6.8/envs/detector_rot/lib/python3.6/site-packages/sklearn/neural_network/_multilayer_perceptron.py:617: ConvergenceWarning: Stochastic Optimizer: Maximum iterations (200) reached and the optimization hasn't converged yet.\n",
      "  % self.max_iter, ConvergenceWarning)\n"
     ]
    },
    {
     "name": "stdout",
     "output_type": "stream",
     "text": [
      "410\n",
      "420\n"
     ]
    },
    {
     "name": "stderr",
     "output_type": "stream",
     "text": [
      "/Users/clarabelitz/.pyenv/versions/3.6.8/envs/detector_rot/lib/python3.6/site-packages/sklearn/neural_network/_multilayer_perceptron.py:617: ConvergenceWarning: Stochastic Optimizer: Maximum iterations (200) reached and the optimization hasn't converged yet.\n",
      "  % self.max_iter, ConvergenceWarning)\n",
      "/Users/clarabelitz/.pyenv/versions/3.6.8/envs/detector_rot/lib/python3.6/site-packages/sklearn/neural_network/_multilayer_perceptron.py:617: ConvergenceWarning: Stochastic Optimizer: Maximum iterations (200) reached and the optimization hasn't converged yet.\n",
      "  % self.max_iter, ConvergenceWarning)\n"
     ]
    },
    {
     "name": "stdout",
     "output_type": "stream",
     "text": [
      "430\n"
     ]
    },
    {
     "name": "stderr",
     "output_type": "stream",
     "text": [
      "/Users/clarabelitz/.pyenv/versions/3.6.8/envs/detector_rot/lib/python3.6/site-packages/sklearn/neural_network/_multilayer_perceptron.py:617: ConvergenceWarning: Stochastic Optimizer: Maximum iterations (200) reached and the optimization hasn't converged yet.\n",
      "  % self.max_iter, ConvergenceWarning)\n",
      "/Users/clarabelitz/.pyenv/versions/3.6.8/envs/detector_rot/lib/python3.6/site-packages/sklearn/neural_network/_multilayer_perceptron.py:617: ConvergenceWarning: Stochastic Optimizer: Maximum iterations (200) reached and the optimization hasn't converged yet.\n",
      "  % self.max_iter, ConvergenceWarning)\n"
     ]
    },
    {
     "name": "stdout",
     "output_type": "stream",
     "text": [
      "440\n"
     ]
    },
    {
     "name": "stderr",
     "output_type": "stream",
     "text": [
      "/Users/clarabelitz/.pyenv/versions/3.6.8/envs/detector_rot/lib/python3.6/site-packages/sklearn/neural_network/_multilayer_perceptron.py:617: ConvergenceWarning: Stochastic Optimizer: Maximum iterations (200) reached and the optimization hasn't converged yet.\n",
      "  % self.max_iter, ConvergenceWarning)\n"
     ]
    },
    {
     "name": "stdout",
     "output_type": "stream",
     "text": [
      "450\n"
     ]
    },
    {
     "name": "stderr",
     "output_type": "stream",
     "text": [
      "/Users/clarabelitz/.pyenv/versions/3.6.8/envs/detector_rot/lib/python3.6/site-packages/sklearn/neural_network/_multilayer_perceptron.py:617: ConvergenceWarning: Stochastic Optimizer: Maximum iterations (200) reached and the optimization hasn't converged yet.\n",
      "  % self.max_iter, ConvergenceWarning)\n",
      "/Users/clarabelitz/.pyenv/versions/3.6.8/envs/detector_rot/lib/python3.6/site-packages/sklearn/neural_network/_multilayer_perceptron.py:617: ConvergenceWarning: Stochastic Optimizer: Maximum iterations (200) reached and the optimization hasn't converged yet.\n",
      "  % self.max_iter, ConvergenceWarning)\n",
      "/Users/clarabelitz/.pyenv/versions/3.6.8/envs/detector_rot/lib/python3.6/site-packages/sklearn/neural_network/_multilayer_perceptron.py:617: ConvergenceWarning: Stochastic Optimizer: Maximum iterations (200) reached and the optimization hasn't converged yet.\n",
      "  % self.max_iter, ConvergenceWarning)\n"
     ]
    },
    {
     "name": "stdout",
     "output_type": "stream",
     "text": [
      "460\n"
     ]
    },
    {
     "name": "stderr",
     "output_type": "stream",
     "text": [
      "/Users/clarabelitz/.pyenv/versions/3.6.8/envs/detector_rot/lib/python3.6/site-packages/sklearn/neural_network/_multilayer_perceptron.py:617: ConvergenceWarning: Stochastic Optimizer: Maximum iterations (200) reached and the optimization hasn't converged yet.\n",
      "  % self.max_iter, ConvergenceWarning)\n",
      "/Users/clarabelitz/.pyenv/versions/3.6.8/envs/detector_rot/lib/python3.6/site-packages/sklearn/neural_network/_multilayer_perceptron.py:617: ConvergenceWarning: Stochastic Optimizer: Maximum iterations (200) reached and the optimization hasn't converged yet.\n",
      "  % self.max_iter, ConvergenceWarning)\n"
     ]
    },
    {
     "name": "stdout",
     "output_type": "stream",
     "text": [
      "470\n",
      "480\n"
     ]
    },
    {
     "name": "stderr",
     "output_type": "stream",
     "text": [
      "/Users/clarabelitz/.pyenv/versions/3.6.8/envs/detector_rot/lib/python3.6/site-packages/sklearn/neural_network/_multilayer_perceptron.py:617: ConvergenceWarning: Stochastic Optimizer: Maximum iterations (200) reached and the optimization hasn't converged yet.\n",
      "  % self.max_iter, ConvergenceWarning)\n"
     ]
    },
    {
     "name": "stdout",
     "output_type": "stream",
     "text": [
      "490\n"
     ]
    },
    {
     "name": "stderr",
     "output_type": "stream",
     "text": [
      "/Users/clarabelitz/.pyenv/versions/3.6.8/envs/detector_rot/lib/python3.6/site-packages/sklearn/neural_network/_multilayer_perceptron.py:617: ConvergenceWarning: Stochastic Optimizer: Maximum iterations (200) reached and the optimization hasn't converged yet.\n",
      "  % self.max_iter, ConvergenceWarning)\n",
      "/Users/clarabelitz/.pyenv/versions/3.6.8/envs/detector_rot/lib/python3.6/site-packages/sklearn/neural_network/_multilayer_perceptron.py:617: ConvergenceWarning: Stochastic Optimizer: Maximum iterations (200) reached and the optimization hasn't converged yet.\n",
      "  % self.max_iter, ConvergenceWarning)\n",
      "/Users/clarabelitz/.pyenv/versions/3.6.8/envs/detector_rot/lib/python3.6/site-packages/sklearn/neural_network/_multilayer_perceptron.py:617: ConvergenceWarning: Stochastic Optimizer: Maximum iterations (200) reached and the optimization hasn't converged yet.\n",
      "  % self.max_iter, ConvergenceWarning)\n"
     ]
    },
    {
     "name": "stdout",
     "output_type": "stream",
     "text": [
      "500\n"
     ]
    },
    {
     "name": "stderr",
     "output_type": "stream",
     "text": [
      "/Users/clarabelitz/.pyenv/versions/3.6.8/envs/detector_rot/lib/python3.6/site-packages/sklearn/neural_network/_multilayer_perceptron.py:617: ConvergenceWarning: Stochastic Optimizer: Maximum iterations (200) reached and the optimization hasn't converged yet.\n",
      "  % self.max_iter, ConvergenceWarning)\n"
     ]
    },
    {
     "name": "stdout",
     "output_type": "stream",
     "text": [
      "510\n"
     ]
    },
    {
     "name": "stderr",
     "output_type": "stream",
     "text": [
      "/Users/clarabelitz/.pyenv/versions/3.6.8/envs/detector_rot/lib/python3.6/site-packages/sklearn/neural_network/_multilayer_perceptron.py:617: ConvergenceWarning: Stochastic Optimizer: Maximum iterations (200) reached and the optimization hasn't converged yet.\n",
      "  % self.max_iter, ConvergenceWarning)\n",
      "/Users/clarabelitz/.pyenv/versions/3.6.8/envs/detector_rot/lib/python3.6/site-packages/sklearn/neural_network/_multilayer_perceptron.py:617: ConvergenceWarning: Stochastic Optimizer: Maximum iterations (200) reached and the optimization hasn't converged yet.\n",
      "  % self.max_iter, ConvergenceWarning)\n"
     ]
    },
    {
     "name": "stdout",
     "output_type": "stream",
     "text": [
      "520\n",
      "530\n",
      "540\n",
      "550\n"
     ]
    },
    {
     "name": "stderr",
     "output_type": "stream",
     "text": [
      "/Users/clarabelitz/.pyenv/versions/3.6.8/envs/detector_rot/lib/python3.6/site-packages/sklearn/neural_network/_multilayer_perceptron.py:617: ConvergenceWarning: Stochastic Optimizer: Maximum iterations (200) reached and the optimization hasn't converged yet.\n",
      "  % self.max_iter, ConvergenceWarning)\n"
     ]
    },
    {
     "name": "stdout",
     "output_type": "stream",
     "text": [
      "560\n"
     ]
    },
    {
     "name": "stderr",
     "output_type": "stream",
     "text": [
      "/Users/clarabelitz/.pyenv/versions/3.6.8/envs/detector_rot/lib/python3.6/site-packages/sklearn/neural_network/_multilayer_perceptron.py:617: ConvergenceWarning: Stochastic Optimizer: Maximum iterations (200) reached and the optimization hasn't converged yet.\n",
      "  % self.max_iter, ConvergenceWarning)\n"
     ]
    },
    {
     "name": "stdout",
     "output_type": "stream",
     "text": [
      "570\n",
      "580\n",
      "590\n"
     ]
    },
    {
     "name": "stderr",
     "output_type": "stream",
     "text": [
      "/Users/clarabelitz/.pyenv/versions/3.6.8/envs/detector_rot/lib/python3.6/site-packages/sklearn/neural_network/_multilayer_perceptron.py:617: ConvergenceWarning: Stochastic Optimizer: Maximum iterations (200) reached and the optimization hasn't converged yet.\n",
      "  % self.max_iter, ConvergenceWarning)\n",
      "/Users/clarabelitz/.pyenv/versions/3.6.8/envs/detector_rot/lib/python3.6/site-packages/sklearn/neural_network/_multilayer_perceptron.py:617: ConvergenceWarning: Stochastic Optimizer: Maximum iterations (200) reached and the optimization hasn't converged yet.\n",
      "  % self.max_iter, ConvergenceWarning)\n"
     ]
    },
    {
     "name": "stdout",
     "output_type": "stream",
     "text": [
      "600\n"
     ]
    },
    {
     "name": "stderr",
     "output_type": "stream",
     "text": [
      "/Users/clarabelitz/.pyenv/versions/3.6.8/envs/detector_rot/lib/python3.6/site-packages/sklearn/neural_network/_multilayer_perceptron.py:617: ConvergenceWarning: Stochastic Optimizer: Maximum iterations (200) reached and the optimization hasn't converged yet.\n",
      "  % self.max_iter, ConvergenceWarning)\n"
     ]
    },
    {
     "name": "stdout",
     "output_type": "stream",
     "text": [
      "610\n"
     ]
    },
    {
     "name": "stderr",
     "output_type": "stream",
     "text": [
      "/Users/clarabelitz/.pyenv/versions/3.6.8/envs/detector_rot/lib/python3.6/site-packages/sklearn/neural_network/_multilayer_perceptron.py:617: ConvergenceWarning: Stochastic Optimizer: Maximum iterations (200) reached and the optimization hasn't converged yet.\n",
      "  % self.max_iter, ConvergenceWarning)\n",
      "/Users/clarabelitz/.pyenv/versions/3.6.8/envs/detector_rot/lib/python3.6/site-packages/sklearn/neural_network/_multilayer_perceptron.py:617: ConvergenceWarning: Stochastic Optimizer: Maximum iterations (200) reached and the optimization hasn't converged yet.\n",
      "  % self.max_iter, ConvergenceWarning)\n"
     ]
    },
    {
     "name": "stdout",
     "output_type": "stream",
     "text": [
      "620\n"
     ]
    },
    {
     "name": "stderr",
     "output_type": "stream",
     "text": [
      "/Users/clarabelitz/.pyenv/versions/3.6.8/envs/detector_rot/lib/python3.6/site-packages/sklearn/neural_network/_multilayer_perceptron.py:617: ConvergenceWarning: Stochastic Optimizer: Maximum iterations (200) reached and the optimization hasn't converged yet.\n",
      "  % self.max_iter, ConvergenceWarning)\n"
     ]
    },
    {
     "name": "stdout",
     "output_type": "stream",
     "text": [
      "630\n"
     ]
    },
    {
     "name": "stderr",
     "output_type": "stream",
     "text": [
      "/Users/clarabelitz/.pyenv/versions/3.6.8/envs/detector_rot/lib/python3.6/site-packages/sklearn/neural_network/_multilayer_perceptron.py:617: ConvergenceWarning: Stochastic Optimizer: Maximum iterations (200) reached and the optimization hasn't converged yet.\n",
      "  % self.max_iter, ConvergenceWarning)\n",
      "/Users/clarabelitz/.pyenv/versions/3.6.8/envs/detector_rot/lib/python3.6/site-packages/sklearn/neural_network/_multilayer_perceptron.py:617: ConvergenceWarning: Stochastic Optimizer: Maximum iterations (200) reached and the optimization hasn't converged yet.\n",
      "  % self.max_iter, ConvergenceWarning)\n"
     ]
    },
    {
     "name": "stdout",
     "output_type": "stream",
     "text": [
      "640\n",
      "650\n"
     ]
    },
    {
     "name": "stderr",
     "output_type": "stream",
     "text": [
      "/Users/clarabelitz/.pyenv/versions/3.6.8/envs/detector_rot/lib/python3.6/site-packages/sklearn/neural_network/_multilayer_perceptron.py:617: ConvergenceWarning: Stochastic Optimizer: Maximum iterations (200) reached and the optimization hasn't converged yet.\n",
      "  % self.max_iter, ConvergenceWarning)\n"
     ]
    },
    {
     "name": "stdout",
     "output_type": "stream",
     "text": [
      "660\n",
      "670\n",
      "680\n",
      "690\n"
     ]
    },
    {
     "name": "stderr",
     "output_type": "stream",
     "text": [
      "/Users/clarabelitz/.pyenv/versions/3.6.8/envs/detector_rot/lib/python3.6/site-packages/sklearn/neural_network/_multilayer_perceptron.py:617: ConvergenceWarning: Stochastic Optimizer: Maximum iterations (200) reached and the optimization hasn't converged yet.\n",
      "  % self.max_iter, ConvergenceWarning)\n"
     ]
    },
    {
     "name": "stdout",
     "output_type": "stream",
     "text": [
      "700\n"
     ]
    },
    {
     "name": "stderr",
     "output_type": "stream",
     "text": [
      "/Users/clarabelitz/.pyenv/versions/3.6.8/envs/detector_rot/lib/python3.6/site-packages/sklearn/neural_network/_multilayer_perceptron.py:617: ConvergenceWarning: Stochastic Optimizer: Maximum iterations (200) reached and the optimization hasn't converged yet.\n",
      "  % self.max_iter, ConvergenceWarning)\n"
     ]
    },
    {
     "name": "stdout",
     "output_type": "stream",
     "text": [
      "710\n"
     ]
    },
    {
     "name": "stderr",
     "output_type": "stream",
     "text": [
      "/Users/clarabelitz/.pyenv/versions/3.6.8/envs/detector_rot/lib/python3.6/site-packages/sklearn/neural_network/_multilayer_perceptron.py:617: ConvergenceWarning: Stochastic Optimizer: Maximum iterations (200) reached and the optimization hasn't converged yet.\n",
      "  % self.max_iter, ConvergenceWarning)\n"
     ]
    },
    {
     "name": "stdout",
     "output_type": "stream",
     "text": [
      "720\n"
     ]
    },
    {
     "name": "stderr",
     "output_type": "stream",
     "text": [
      "/Users/clarabelitz/.pyenv/versions/3.6.8/envs/detector_rot/lib/python3.6/site-packages/sklearn/neural_network/_multilayer_perceptron.py:617: ConvergenceWarning: Stochastic Optimizer: Maximum iterations (200) reached and the optimization hasn't converged yet.\n",
      "  % self.max_iter, ConvergenceWarning)\n"
     ]
    },
    {
     "name": "stdout",
     "output_type": "stream",
     "text": [
      "730\n"
     ]
    },
    {
     "name": "stderr",
     "output_type": "stream",
     "text": [
      "/Users/clarabelitz/.pyenv/versions/3.6.8/envs/detector_rot/lib/python3.6/site-packages/sklearn/neural_network/_multilayer_perceptron.py:617: ConvergenceWarning: Stochastic Optimizer: Maximum iterations (200) reached and the optimization hasn't converged yet.\n",
      "  % self.max_iter, ConvergenceWarning)\n",
      "/Users/clarabelitz/.pyenv/versions/3.6.8/envs/detector_rot/lib/python3.6/site-packages/sklearn/neural_network/_multilayer_perceptron.py:617: ConvergenceWarning: Stochastic Optimizer: Maximum iterations (200) reached and the optimization hasn't converged yet.\n",
      "  % self.max_iter, ConvergenceWarning)\n"
     ]
    },
    {
     "name": "stdout",
     "output_type": "stream",
     "text": [
      "740\n",
      "750\n",
      "760\n",
      "770\n"
     ]
    },
    {
     "name": "stderr",
     "output_type": "stream",
     "text": [
      "/Users/clarabelitz/.pyenv/versions/3.6.8/envs/detector_rot/lib/python3.6/site-packages/sklearn/neural_network/_multilayer_perceptron.py:617: ConvergenceWarning: Stochastic Optimizer: Maximum iterations (200) reached and the optimization hasn't converged yet.\n",
      "  % self.max_iter, ConvergenceWarning)\n"
     ]
    },
    {
     "name": "stdout",
     "output_type": "stream",
     "text": [
      "780\n",
      "790\n",
      "800\n"
     ]
    },
    {
     "name": "stderr",
     "output_type": "stream",
     "text": [
      "/Users/clarabelitz/.pyenv/versions/3.6.8/envs/detector_rot/lib/python3.6/site-packages/sklearn/neural_network/_multilayer_perceptron.py:617: ConvergenceWarning: Stochastic Optimizer: Maximum iterations (200) reached and the optimization hasn't converged yet.\n",
      "  % self.max_iter, ConvergenceWarning)\n"
     ]
    },
    {
     "name": "stdout",
     "output_type": "stream",
     "text": [
      "810\n",
      "820\n",
      "830\n"
     ]
    },
    {
     "name": "stderr",
     "output_type": "stream",
     "text": [
      "/Users/clarabelitz/.pyenv/versions/3.6.8/envs/detector_rot/lib/python3.6/site-packages/sklearn/neural_network/_multilayer_perceptron.py:617: ConvergenceWarning: Stochastic Optimizer: Maximum iterations (200) reached and the optimization hasn't converged yet.\n",
      "  % self.max_iter, ConvergenceWarning)\n",
      "/Users/clarabelitz/.pyenv/versions/3.6.8/envs/detector_rot/lib/python3.6/site-packages/sklearn/neural_network/_multilayer_perceptron.py:617: ConvergenceWarning: Stochastic Optimizer: Maximum iterations (200) reached and the optimization hasn't converged yet.\n",
      "  % self.max_iter, ConvergenceWarning)\n"
     ]
    },
    {
     "name": "stdout",
     "output_type": "stream",
     "text": [
      "840\n"
     ]
    },
    {
     "name": "stderr",
     "output_type": "stream",
     "text": [
      "/Users/clarabelitz/.pyenv/versions/3.6.8/envs/detector_rot/lib/python3.6/site-packages/sklearn/neural_network/_multilayer_perceptron.py:617: ConvergenceWarning: Stochastic Optimizer: Maximum iterations (200) reached and the optimization hasn't converged yet.\n",
      "  % self.max_iter, ConvergenceWarning)\n"
     ]
    },
    {
     "name": "stdout",
     "output_type": "stream",
     "text": [
      "850\n"
     ]
    },
    {
     "name": "stderr",
     "output_type": "stream",
     "text": [
      "/Users/clarabelitz/.pyenv/versions/3.6.8/envs/detector_rot/lib/python3.6/site-packages/sklearn/neural_network/_multilayer_perceptron.py:617: ConvergenceWarning: Stochastic Optimizer: Maximum iterations (200) reached and the optimization hasn't converged yet.\n",
      "  % self.max_iter, ConvergenceWarning)\n"
     ]
    },
    {
     "name": "stdout",
     "output_type": "stream",
     "text": [
      "860\n",
      "870\n"
     ]
    },
    {
     "name": "stderr",
     "output_type": "stream",
     "text": [
      "/Users/clarabelitz/.pyenv/versions/3.6.8/envs/detector_rot/lib/python3.6/site-packages/sklearn/neural_network/_multilayer_perceptron.py:617: ConvergenceWarning: Stochastic Optimizer: Maximum iterations (200) reached and the optimization hasn't converged yet.\n",
      "  % self.max_iter, ConvergenceWarning)\n",
      "/Users/clarabelitz/.pyenv/versions/3.6.8/envs/detector_rot/lib/python3.6/site-packages/sklearn/neural_network/_multilayer_perceptron.py:617: ConvergenceWarning: Stochastic Optimizer: Maximum iterations (200) reached and the optimization hasn't converged yet.\n",
      "  % self.max_iter, ConvergenceWarning)\n",
      "/Users/clarabelitz/.pyenv/versions/3.6.8/envs/detector_rot/lib/python3.6/site-packages/sklearn/neural_network/_multilayer_perceptron.py:617: ConvergenceWarning: Stochastic Optimizer: Maximum iterations (200) reached and the optimization hasn't converged yet.\n",
      "  % self.max_iter, ConvergenceWarning)\n",
      "/Users/clarabelitz/.pyenv/versions/3.6.8/envs/detector_rot/lib/python3.6/site-packages/sklearn/neural_network/_multilayer_perceptron.py:617: ConvergenceWarning: Stochastic Optimizer: Maximum iterations (200) reached and the optimization hasn't converged yet.\n",
      "  % self.max_iter, ConvergenceWarning)\n"
     ]
    },
    {
     "name": "stdout",
     "output_type": "stream",
     "text": [
      "880\n",
      "890\n",
      "900\n",
      "910\n"
     ]
    },
    {
     "name": "stderr",
     "output_type": "stream",
     "text": [
      "/Users/clarabelitz/.pyenv/versions/3.6.8/envs/detector_rot/lib/python3.6/site-packages/sklearn/neural_network/_multilayer_perceptron.py:617: ConvergenceWarning: Stochastic Optimizer: Maximum iterations (200) reached and the optimization hasn't converged yet.\n",
      "  % self.max_iter, ConvergenceWarning)\n"
     ]
    },
    {
     "name": "stdout",
     "output_type": "stream",
     "text": [
      "920\n"
     ]
    },
    {
     "name": "stderr",
     "output_type": "stream",
     "text": [
      "/Users/clarabelitz/.pyenv/versions/3.6.8/envs/detector_rot/lib/python3.6/site-packages/sklearn/neural_network/_multilayer_perceptron.py:617: ConvergenceWarning: Stochastic Optimizer: Maximum iterations (200) reached and the optimization hasn't converged yet.\n",
      "  % self.max_iter, ConvergenceWarning)\n"
     ]
    },
    {
     "name": "stdout",
     "output_type": "stream",
     "text": [
      "930\n"
     ]
    },
    {
     "name": "stderr",
     "output_type": "stream",
     "text": [
      "/Users/clarabelitz/.pyenv/versions/3.6.8/envs/detector_rot/lib/python3.6/site-packages/sklearn/neural_network/_multilayer_perceptron.py:617: ConvergenceWarning: Stochastic Optimizer: Maximum iterations (200) reached and the optimization hasn't converged yet.\n",
      "  % self.max_iter, ConvergenceWarning)\n"
     ]
    },
    {
     "name": "stdout",
     "output_type": "stream",
     "text": [
      "940\n"
     ]
    },
    {
     "name": "stderr",
     "output_type": "stream",
     "text": [
      "/Users/clarabelitz/.pyenv/versions/3.6.8/envs/detector_rot/lib/python3.6/site-packages/sklearn/neural_network/_multilayer_perceptron.py:617: ConvergenceWarning: Stochastic Optimizer: Maximum iterations (200) reached and the optimization hasn't converged yet.\n",
      "  % self.max_iter, ConvergenceWarning)\n"
     ]
    },
    {
     "name": "stdout",
     "output_type": "stream",
     "text": [
      "950\n"
     ]
    },
    {
     "name": "stderr",
     "output_type": "stream",
     "text": [
      "/Users/clarabelitz/.pyenv/versions/3.6.8/envs/detector_rot/lib/python3.6/site-packages/sklearn/neural_network/_multilayer_perceptron.py:617: ConvergenceWarning: Stochastic Optimizer: Maximum iterations (200) reached and the optimization hasn't converged yet.\n",
      "  % self.max_iter, ConvergenceWarning)\n",
      "/Users/clarabelitz/.pyenv/versions/3.6.8/envs/detector_rot/lib/python3.6/site-packages/sklearn/neural_network/_multilayer_perceptron.py:617: ConvergenceWarning: Stochastic Optimizer: Maximum iterations (200) reached and the optimization hasn't converged yet.\n",
      "  % self.max_iter, ConvergenceWarning)\n"
     ]
    },
    {
     "name": "stdout",
     "output_type": "stream",
     "text": [
      "960\n",
      "970\n",
      "980\n"
     ]
    },
    {
     "name": "stderr",
     "output_type": "stream",
     "text": [
      "/Users/clarabelitz/.pyenv/versions/3.6.8/envs/detector_rot/lib/python3.6/site-packages/sklearn/neural_network/_multilayer_perceptron.py:617: ConvergenceWarning: Stochastic Optimizer: Maximum iterations (200) reached and the optimization hasn't converged yet.\n",
      "  % self.max_iter, ConvergenceWarning)\n"
     ]
    },
    {
     "name": "stdout",
     "output_type": "stream",
     "text": [
      "990\n"
     ]
    }
   ],
   "source": [
    "i=0\n",
    "names = [\n",
    "    \"Dummy\",\n",
    "    \"Decision Tree\",\n",
    "    \"Random Forest\",\n",
    "    \"Neural Net\",\n",
    "    \"XGBoost\"\n",
    "]\n",
    "averages = {}\n",
    "for name in names:\n",
    "    averages[name] = ([],[],[])\n",
    "while i<1000:\n",
    "    classifiers = [\n",
    "        DummyClassifier(strategy=\"stratified\"),\n",
    "        DecisionTreeClassifier(max_depth = 5, random_state = i),\n",
    "        RandomForestClassifier(max_depth = 5, random_state = i),\n",
    "        MLPClassifier(random_state = i),\n",
    "        xgb.XGBClassifier(random_state = i, use_label_encoder=False, eval_metric='logloss')\n",
    "    ]\n",
    "\n",
    "    res_NEW = {}\n",
    "#     res_OLD = {}\n",
    "    finalPreds = pd.DataFrame(index=df.index, columns=['probability_predict', 'label_predict','label'], dtype=float)\n",
    "\n",
    "    print(i)\n",
    "\n",
    "    for name, clf in zip(names, classifiers):\n",
    "        res_NEW[name] = TrainModels(df, \"StudentID\", 4, \"NEW\", clf, name)\n",
    "#         res_OLD[name] = TrainModels(df2, \"StudentID\", 4, \"OLD\", clf, name)\n",
    "        \n",
    "        sm = SMOTE(random_state=42)\n",
    "        oldX_train, oldY_train = sm.fit_resample(df2[features], df2[train_label])  \n",
    "        clf.fit(oldX_train, oldY_train)\n",
    "        probs = clf.predict_proba(df[features])\n",
    "        label_predict = clf.predict(df[features])                                  \n",
    "        roc_auc_old_to_new = metrics.roc_auc_score(df[train_label],clf.predict_proba(df[features])[:, 1]) #score on the full new data\n",
    "        finalPreds['probability_predict'] = probs[:,1] \n",
    "        finalPreds['label_predict'] = label_predict\n",
    "        finalPreds['label'] = df[train_label]\n",
    "#                 print(finalPreds)\n",
    "        csv_name = str(name) + \"_finalPredictions_old_to_new_with_proba.csv\"\n",
    "        finalPreds.to_csv(csv_name)\n",
    "        #print(\"OldToNew: \" + name + \" roc_auc: \"+ str(roc_auc_old_to_new))\n",
    "#         old_to_new_se = standard_error(roc_auc_old_to_new, y.value_counts()[1],y.value_counts()[0])\n",
    "        #print (\"StandardError = \", old_to_new_se)\n",
    "        #print(\"Z-Score OTN versus N: \", z_score(res_NEW[name][0], roc_auc_old_to_new, res_NEW[name][1], old_to_new_se))\n",
    "        #print(\"Z-Score OTN versus O: \", z_score(roc_auc_old_to_new, res_OLD[name][0], old_to_new_se, res_OLD[name][1]), \"\\n\")\n",
    "#         averages[name][0].append(res_NEW[name][0])\n",
    "#         averages[name][1].append(res_OLD[name][0])\n",
    "#         averages[name][2].append(roc_auc_old_to_new)\n",
    "        \n",
    "    i+=10\n"
   ]
  },
  {
   "cell_type": "code",
   "execution_count": 7,
   "id": "1c226661-a1db-4972-8871-28d27e598b47",
   "metadata": {},
   "outputs": [
    {
     "name": "stdout",
     "output_type": "stream",
     "text": [
      "Dummy  New Average:  0.5010720554272518\n",
      "Decision Tree  New Average:  0.7348854503464204\n",
      "Random Forest  New Average:  0.9290660508083141\n",
      "Neural Net  New Average:  0.8761422632794458\n",
      "XGBoost  New Average:  0.9079907621247114\n"
     ]
    }
   ],
   "source": [
    "for name in names:\n",
    "    print(name, \" New Average: \", mean(averages[name][0]))\n",
    "#     print(name, \" Old Average: \", mean(averages[name][1]))\n",
    "#     print(name, \" Old To New Average: \", mean(averages[name][2]))\n"
   ]
  },
  {
   "cell_type": "code",
   "execution_count": 8,
   "id": "c2ac3af9",
   "metadata": {},
   "outputs": [
    {
     "ename": "NameError",
     "evalue": "name 'averages' is not defined",
     "output_type": "error",
     "traceback": [
      "\u001b[1;31m---------------------------------------------------------------------------\u001b[0m",
      "\u001b[1;31mNameError\u001b[0m                                 Traceback (most recent call last)",
      "\u001b[1;32m~\\AppData\\Local\\Temp/ipykernel_14744/3529861276.py\u001b[0m in \u001b[0;36m<module>\u001b[1;34m\u001b[0m\n\u001b[1;32m----> 1\u001b[1;33m \u001b[0mdf_results\u001b[0m \u001b[1;33m=\u001b[0m \u001b[0mpd\u001b[0m\u001b[1;33m.\u001b[0m\u001b[0mDataFrame\u001b[0m\u001b[1;33m.\u001b[0m\u001b[0mfrom_dict\u001b[0m\u001b[1;33m(\u001b[0m\u001b[0maverages\u001b[0m\u001b[1;33m)\u001b[0m\u001b[1;33m\u001b[0m\u001b[1;33m\u001b[0m\u001b[0m\n\u001b[0m\u001b[0;32m      2\u001b[0m \u001b[0mdf_results\u001b[0m\u001b[1;33m.\u001b[0m\u001b[0mdtypes\u001b[0m\u001b[1;33m\u001b[0m\u001b[1;33m\u001b[0m\u001b[0m\n",
      "\u001b[1;31mNameError\u001b[0m: name 'averages' is not defined"
     ]
    }
   ],
   "source": [
    "df_results = pd.DataFrame.from_dict(averages)\n"
   ]
  },
  {
   "cell_type": "code",
   "execution_count": 27,
   "id": "8317c9d0-446d-4543-ac57-133bf6208a15",
   "metadata": {},
   "outputs": [
    {
     "name": "stdout",
     "output_type": "stream",
     "text": [
      "Dummy -- MeanNEW: 0.5011639722863741 , MeanOLD 0.5011185912752227, MeanOldToNew 0.5069995381062355\n",
      "Decision Tree -- MeanNEW: 0.7375441108545034 , MeanOLD 0.7364526401827343, MeanOldToNew 0.7156129330254041\n",
      "Random Forest -- MeanNEW: 0.929175519630485 , MeanOLD 0.7839704926360744, MeanOldToNew 0.5091094688221709\n",
      "Neural Net -- MeanNEW: 0.8793441108545035 , MeanOLD 0.6487411675636713, MeanOldToNew 0.3979482678983834\n",
      "XGBoost -- MeanNEW: 0.9209237875288683 , MeanOLD 0.7629667453275496, MeanOldToNew 0.33339491916859115\n"
     ]
    }
   ],
   "source": [
    "df_results = pd.read_csv('results.csv')\n",
    "df_results.drop(columns=df_results.columns[0], axis=1, inplace=True)\n",
    "for c in df_results.columns:\n",
    "    new_list = (list(map(float, df_results[c].iloc[0][1:len(df_results[c].iloc[0])-1].split(\",\"))))\n",
    "    old_list = (list(map(float, df_results[c].iloc[1][1:len(df_results[c].iloc[1])-1].split(\",\"))))\n",
    "    OTN_list = (list(map(float, df_results[c].iloc[2][1:len(df_results[c].iloc[2])-1].split(\",\"))))\n",
    "    print(\"{3} -- MeanNEW: {0} , MeanOLD {1}, MeanOldToNew {2}\".format(mean(new_list), mean(old_list), mean(OTN_list), c))"
   ]
  },
  {
   "cell_type": "code",
   "execution_count": 180,
   "id": "7990b489",
   "metadata": {},
   "outputs": [],
   "source": [
    "#Old to New - this seems to be getting slightly different results from above, guessing due to the stochastic nature of some of the models Answer: Yes fixing random state locked these in\n",
    "#for name, clf in zip(names, classifiers):\n",
    "#        clf.fit(X_old_train, y_old)\n",
    "#        roc_auc = metrics.roc_auc_score(y,clf.predict_proba(X_train)[:, 1])\n",
    "#        ConfusionMatrixDisplay.from_estimator(clf,X_train,y)\n",
    "#        plt.show()\n",
    "#        print(name + \" roc_auc:\" + str(roc_auc))"
   ]
  },
  {
   "cell_type": "code",
   "execution_count": 9,
   "id": "d062536d-38b5-4b03-a037-1d893ff5c9ae",
   "metadata": {},
   "outputs": [
    {
     "data": {
      "image/png": "[encoded data removed]",
      "text/plain": [
       "<Figure size 432x288 with 1 Axes>"
      ]
     },
     "metadata": {
      "needs_background": "light"
     },
     "output_type": "display_data"
    }
   ],
   "source": [
    "#New Feature Importance\n",
    "#clf = xgb.XGBClassifier(random_state=42)\n",
    "clf = DecisionTreeClassifier(max_depth = 5, random_state = 42)\n",
    "\n",
    "sm = SMOTE(random_state=42)\n",
    "X_train, Y_train = sm.fit_resample(df[features], df[label])\n",
    "\n",
    "# Train the model\n",
    "clf.fit(X_train, Y_train)\n",
    "importances = clf.feature_importances_\n",
    "num_features = 15\n",
    "indices = np.argsort(importances)\n",
    "\n",
    "cols = np.array(X_train.columns)\n",
    "for i,col in enumerate(cols):\n",
    "    if ('OK' in col):\n",
    "        cols[i] = cols[i].replace('OK','CORRECT')\n",
    "        \n",
    "fig, ax = plt.subplots()\n",
    "ax.set_title('Decision Tree New Data Top 15 Features')\n",
    "ax.set_xlabel('Feature Importance')\n",
    "ax.barh(range(num_features), importances[indices][-num_features:])\n",
    "ax.set_yticks(range(num_features))\n",
    "_ = ax.set_yticklabels(cols[indices][-num_features:])\n",
    "plt.tight_layout()\n",
    "fig.savefig('dt_new_top_features.png')"
   ]
  },
  {
   "cell_type": "code",
   "execution_count": 10,
   "id": "f92e8660-4a1d-456d-8e12-70a798e2e097",
   "metadata": {},
   "outputs": [
    {
     "data": {
      "image/png": "[encoded data removed]",
      "text/plain": [
       "<Figure size 432x288 with 1 Axes>"
      ]
     },
     "metadata": {
      "needs_background": "light"
     },
     "output_type": "display_data"
    }
   ],
   "source": [
    "#Old Feature Importance\n",
    "#clf = xgb.XGBClassifier(random_state=42)\n",
    "clf = DecisionTreeClassifier(max_depth = 5, random_state = 42)\n",
    "\n",
    "sm = SMOTE(random_state=42)\n",
    "X_train, Y_train = sm.fit_resample(df2[features], df2[label])\n",
    "\n",
    "# Train the model\n",
    "clf.fit(X_train,Y_train)\n",
    "importances = clf.feature_importances_\n",
    "num_features = 15\n",
    "indices = np.argsort(importances)\n",
    "cols = np.array(X_train.columns)\n",
    "for i,col in enumerate(cols):\n",
    "    if ('OK' in col):\n",
    "        cols[i] = cols[i].replace('OK','CORRECT')\n",
    "        \n",
    "\n",
    "fig, ax = plt.subplots()\n",
    "ax.set_title(\"Decision Tree Old Data Top 15 Features\")\n",
    "ax.set_xlabel('Feature Importance')\n",
    "ax.barh(range(num_features), importances[indices][-num_features:])\n",
    "ax.set_yticks(range(num_features))\n",
    "_ = ax.set_yticklabels(cols[indices][-num_features:])\n",
    "plt.tight_layout()\n",
    "fig.savefig('dt_old_top_features.png')"
   ]
  },
  {
   "cell_type": "code",
   "execution_count": 21,
   "id": "4e4dba1f-d6a7-4c1e-9cf2-3a5f55623949",
   "metadata": {},
   "outputs": [
    {
     "name": "stdout",
     "output_type": "stream",
     "text": [
      "Z-Score O versus N:  -7.9255691241115 \n",
      "\n",
      "P-value:  2.2710377535469903e-15\n"
     ]
    }
   ],
   "source": [
    ";'\n",
    "]['roc_auc_old = 0.921\n",
    "roc_auc_new = 0.398\n",
    "old_se = standard_error(roc_auc_old, y.value_counts()[1],y.value_counts()[0])\n",
    "new_se =  standard_error(roc_auc_new, y.value_counts()[1],y.value_counts()[0])\n",
    "z_scor = z_score(roc_auc_new, roc_auc_old, new_se, old_se)\n",
    "print(\"Z-Score O versus N: \", z_scor, \"\\n\")\n",
    "print(\"P-value: \", scipy.stats.norm.sf(abs(z_scor))*2)"
   ]
  },
  {
   "cell_type": "code",
   "execution_count": null,
   "id": "31935959-f3b8-4975-8568-11c0fc6aaa82",
   "metadata": {},
   "outputs": [],
   "source": []
  }
 ],
 "metadata": {
  "kernelspec": {
   "display_name": "Python 3",
   "language": "python",
   "name": "python3"
  },
  "language_info": {
   "codemirror_mode": {
    "name": "ipython",
    "version": 3
   },
   "file_extension": ".py",
   "mimetype": "text/x-python",
   "name": "python",
   "nbconvert_exporter": "python",
   "pygments_lexer": "ipython3",
   "version": "3.6.8"
  }
 },
 "nbformat": 4,
 "nbformat_minor": 5
}
